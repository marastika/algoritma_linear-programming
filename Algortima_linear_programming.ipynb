{
  "nbformat": 4,
  "nbformat_minor": 0,
  "metadata": {
    "colab": {
      "provenance": []
    },
    "kernelspec": {
      "name": "python3",
      "display_name": "Python 3"
    },
    "language_info": {
      "name": "python"
    }
  },
  "cells": [
    {
      "cell_type": "code",
      "execution_count": null,
      "metadata": {
        "colab": {
          "base_uri": "https://localhost:8080/"
        },
        "id": "s_DlgUpe8nbk",
        "outputId": "c6b9009d-fd52-4b9a-e634-f07f8bc16d58"
      },
      "outputs": [
        {
          "output_type": "stream",
          "name": "stdout",
          "text": [
            "Collecting pulp\n",
            "  Downloading PuLP-2.8.0-py3-none-any.whl (17.7 MB)\n",
            "\u001b[2K     \u001b[90m━━━━━━━━━━━━━━━━━━━━━━━━━━━━━━━━━━━━━━━━\u001b[0m \u001b[32m17.7/17.7 MB\u001b[0m \u001b[31m53.7 MB/s\u001b[0m eta \u001b[36m0:00:00\u001b[0m\n",
            "\u001b[?25hInstalling collected packages: pulp\n",
            "Successfully installed pulp-2.8.0\n"
          ]
        }
      ],
      "source": [
        "pip install pulp"
      ]
    },
    {
      "cell_type": "code",
      "source": [
        "import pulp\n",
        "\n",
        "# Step 1: Create a LP Minimization problem\n",
        "model = pulp.LpProblem(\"Minimize_Cost_of_Acid_Mine_Drainage_Treatment\", pulp.LpMinimize)\n",
        "\n",
        "# Step 2: Define decision variables\n",
        "x1 = pulp.LpVariable(\"Method1_volume\", lowBound=0, cat='Continuous')  # Volume treated by Method 1\n",
        "x2 = pulp.LpVariable(\"Method2_volume\", lowBound=0, cat='Continuous')  # Volume treated by Method 2\n",
        "\n",
        "# Step 3: Objective Function\n",
        "# Assuming cost per unit volume for Method 1 is $20 and for Method 2 is $30\n",
        "model += 20 * x1 + 30 * x2, \"Total Treatment Cost\"\n",
        "\n",
        "# Step 4: Constraints\n",
        "# Assume we need to treat at least 100 units of contaminants\n",
        "# Method 1 removes 0.4 units per volume, Method 2 removes 0.5 units per volume\n",
        "model += 0.4 * x1 + 0.5 * x2 >= 100, \"Contaminant Reduction Requirement\"\n",
        "\n",
        "# Step 5: Solve the problem\n",
        "model.solve()\n",
        "print(\"Status:\", pulp.LpStatus[model.status])\n",
        "\n",
        "# Step 6: Print the optimal decision variable values and the minimum cost\n",
        "print(f\"Optimal Volume to treat using Method 1: {x1.varValue}\")\n",
        "print(f\"Optimal Volume to treat using Method 2: {x2.varValue}\")\n",
        "print(f\"Total Cost of Treatment: ${pulp.value(model.objective)}\")\n"
      ],
      "metadata": {
        "id": "wW4X2EKu8wnS",
        "outputId": "b5ab20ed-d519-4553-bdb1-fa8d7458b090",
        "colab": {
          "base_uri": "https://localhost:8080/"
        }
      },
      "execution_count": null,
      "outputs": [
        {
          "output_type": "stream",
          "name": "stdout",
          "text": [
            "Status: Optimal\n",
            "Optimal Volume to treat using Method 1: 250.0\n",
            "Optimal Volume to treat using Method 2: 0.0\n",
            "Total Cost of Treatment: $5000.0\n"
          ]
        }
      ]
    },
    {
      "cell_type": "code",
      "source": [
        "from pulp import LpMinimize, LpProblem, LpStatus, lpSum, LpVariable\n",
        "\n",
        "# Membuat model\n",
        "model = LpProblem(name=\"minimasi-biaya-operasional\", sense=LpMinimize)\n",
        "\n",
        "# Mendefinisikan variabel\n",
        "x1 = LpVariable(name=\"x1\", lowBound=0)\n",
        "x2 = LpVariable(name=\"x2\", lowBound=0)\n",
        "x3 = LpVariable(name=\"x3\", lowBound=0)\n",
        "\n",
        "# Menambahkan fungsi tujuan\n",
        "model += (500 * x1 + 200 * x2 + 150 * x3, \"Total Cost\")\n",
        "\n",
        "# Menambahkan batasan\n",
        "model += (x1 <= 24, \"maks_peralatan\")\n",
        "model += (x2 <= 500, \"maks_bahan_kimia\")\n",
        "model += (x3 <= 30, \"maks_tenaga_kerja\")\n",
        "model += (0.1 * x1 + 0.5 * x2 >= 50, \"standar_pengolahan\")\n",
        "\n",
        "# Menyelesaikan model\n",
        "status = model.solve()\n",
        "\n",
        "# Output hasil\n",
        "print(f\"Status: {model.status}, {LpStatus[model.status]}\")\n",
        "print(f\"x1: {x1.value()}, x2: {x2.value()}, x3: {x3.value()}\")\n"
      ],
      "metadata": {
        "colab": {
          "base_uri": "https://localhost:8080/"
        },
        "id": "yD4xEKP9hY3q",
        "outputId": "94eee6d7-7b1b-4737-892a-9b5e3248ad2b"
      },
      "execution_count": null,
      "outputs": [
        {
          "output_type": "stream",
          "name": "stdout",
          "text": [
            "Status: 1, Optimal\n",
            "x1: 0.0, x2: 100.0, x3: 0.0\n"
          ]
        }
      ]
    },
    {
      "cell_type": "code",
      "source": [
        "import pulp as pl\n",
        "\n",
        "# Inisiasi model\n",
        "model = pl.LpProblem(\"Optimasi_Pengolahan_Air_Asam_Tambang\", pl.LpMinimize)\n",
        "\n",
        "# Definisi variabel keputusan\n",
        "# x1, x2, dan x3 masing-masing adalah jumlah bahan kimia A, B, dan C yang digunakan\n",
        "x1 = pl.LpVariable(\"Bahan_Kimia_A\", lowBound=0)\n",
        "x2 = pl.LpVariable(\"Bahan_Kimia_B\", lowBound=0)\n",
        "x3 = pl.LpVariable(\"Bahan_Kimia_C\", lowBound=0)\n",
        "\n",
        "# Fungsi tujuan (Minimalkan total biaya)\n",
        "model += 10 * x1 + 20 * x2 + 15 * x3, \"Total_Biaya\"\n",
        "\n",
        "# Batasan\n",
        "model += x1 + x2 + x3 <= 1000, \"Batas_Total_Bahan_Kimia\"\n",
        "model += 2 * x1 + 4 * x2 + 3 * x3 >= 500, \"Kebutuhan_Minimum_Efektivitas\"\n",
        "model += x2 <= 300, \"Batas_Bahan_Kimia_B\"\n",
        "model += x3 >= 50, \"Kebutuhan_Minimum_Bahan_Kimia_C\"\n",
        "\n",
        "# Menyelesaikan model\n",
        "model.solve()\n",
        "\n",
        "# Menampilkan hasil\n",
        "print(\"Status:\", pl.LpStatus[model.status])\n",
        "print(\"Optimal menggunakan Bahan Kimia A:\", pl.value(x1))\n",
        "print(\"Optimal menggunakan Bahan Kimia B:\", pl.value(x2))\n",
        "print(\"Optimal menggunakan Bahan Kimia C:\", pl.value(x3))\n"
      ],
      "metadata": {
        "colab": {
          "base_uri": "https://localhost:8080/"
        },
        "id": "7dkL4CVJiJWk",
        "outputId": "e4c40661-2da4-41a9-9dd5-bd15ce1a9075"
      },
      "execution_count": null,
      "outputs": [
        {
          "output_type": "stream",
          "name": "stdout",
          "text": [
            "Status: Optimal\n",
            "Optimal menggunakan Bahan Kimia A: 0.0\n",
            "Optimal menggunakan Bahan Kimia B: 87.5\n",
            "Optimal menggunakan Bahan Kimia C: 50.0\n"
          ]
        }
      ]
    },
    {
      "cell_type": "code",
      "source": [
        "from scipy.optimize import linprog\n",
        "\n",
        "# Koefisien dalam fungsi tujuan (minimalkan biaya)\n",
        "c = [10, 20, 15]  # Biaya untuk bahan kimia A, B, C\n",
        "\n",
        "# Matriks A dalam bentuk batasan Ax <= b\n",
        "A = [[1, 1, 1],  # Total bahan kimia\n",
        "     [-2, -4, -3]]  # Efektivitas bahan kimia\n",
        "\n",
        "# Vektor b, menyatakan batasan kanan\n",
        "b = [1000, -500]  # Batas atas total bahan kimia dan batas bawah keefektifan\n",
        "\n",
        "# Batas untuk setiap variabel (bahan kimia)\n",
        "x_bounds = [(0, None),  # Bahan kimia A tidak ada batas atas\n",
        "            (0, 300),   # Bahan kimia B dibatasi hingga 300\n",
        "            (50, None)]  # Bahan kimia C minimal 50\n",
        "\n",
        "# Menyelesaikan optimasi\n",
        "res = linprog(c, A_ub=A, b_ub=b, bounds=x_bounds, method='highs')\n",
        "\n",
        "# Menampilkan hasil\n",
        "print(\"Status:\", res.message)\n",
        "print(\"Biaya Minimum:\", res.fun)\n",
        "print(\"Penggunaan Bahan Kimia A, B, C:\", res.x)\n"
      ],
      "metadata": {
        "colab": {
          "base_uri": "https://localhost:8080/"
        },
        "id": "ykFSBIuaiWwK",
        "outputId": "72535515-0456-4f9e-9f25-80a9281c846e"
      },
      "execution_count": null,
      "outputs": [
        {
          "output_type": "stream",
          "name": "stdout",
          "text": [
            "Status: Optimization terminated successfully. (HiGHS Status 7: Optimal)\n",
            "Biaya Minimum: 2500.0\n",
            "Penggunaan Bahan Kimia A, B, C: [175.   0.  50.]\n"
          ]
        }
      ]
    }
  ]
}