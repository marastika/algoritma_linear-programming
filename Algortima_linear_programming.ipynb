{
  "nbformat": 4,
  "nbformat_minor": 0,
  "metadata": {
    "colab": {
      "provenance": [],
      "include_colab_link": true
    },
    "kernelspec": {
      "name": "python3",
      "display_name": "Python 3"
    },
    "language_info": {
      "name": "python"
    }
  },
  "cells": [
    {
      "cell_type": "markdown",
      "metadata": {
        "id": "view-in-github",
        "colab_type": "text"
      },
      "source": [
        "<a href=\"https://colab.research.google.com/github/marastika/algoritma_linear-programming/blob/main/Algortima_linear_programming.ipynb\" target=\"_parent\"><img src=\"https://colab.research.google.com/assets/colab-badge.svg\" alt=\"Open In Colab\"/></a>"
      ]
    },
    {
      "cell_type": "code",
      "execution_count": null,
      "metadata": {
        "colab": {
          "base_uri": "https://localhost:8080/"
        },
        "id": "s_DlgUpe8nbk",
        "outputId": "d8e59b44-c6ff-4462-a63d-b8ee4f35aa60"
      },
      "outputs": [
        {
          "output_type": "stream",
          "name": "stdout",
          "text": [
            "Collecting pulp\n",
            "  Downloading PuLP-2.8.0-py3-none-any.whl (17.7 MB)\n",
            "\u001b[2K     \u001b[90m━━━━━━━━━━━━━━━━━━━━━━━━━━━━━━━━━━━━━━━━\u001b[0m \u001b[32m17.7/17.7 MB\u001b[0m \u001b[31m39.5 MB/s\u001b[0m eta \u001b[36m0:00:00\u001b[0m\n",
            "\u001b[?25hInstalling collected packages: pulp\n",
            "Successfully installed pulp-2.8.0\n"
          ]
        }
      ],
      "source": [
        "pip install pulp"
      ]
    },
    {
      "cell_type": "code",
      "source": [
        "import numpy as np\n",
        "from scipy.optimize import linprog\n",
        "\n",
        "# Koefisien dari fungsi objektif\n",
        "c = [3200, 15000]\n",
        "\n",
        "# Koefisien dari batasan (Ax <= b)\n",
        "# Dalam hal ini, kita akan mempertimbangkan dua batasan utama:\n",
        "# 1. Kapur: 10.000 <= x1 <= 540.000\n",
        "# 2. Soda Kaustik: 0 <= x2 <= 100.000\n",
        "\n",
        "A = [\n",
        "    [-1, 0],  # untuk x1 >= 10.000\n",
        "    [1, 0],   # untuk x1 <= 540.000\n",
        "    [0, -1],  # untuk x2 >= 0\n",
        "    [0, 1]    # untuk x2 <= 100.000\n",
        "]\n",
        "\n",
        "b = [\n",
        "    -10000,   # untuk x1 >= 10.000\n",
        "    540000,   # untuk x1 <= 540.000\n",
        "    0,        # untuk x2 >= 0\n",
        "    100000    # untuk x2 <= 100.000\n",
        "]\n",
        "\n",
        "# Batasan untuk variabel (x1, x2) >= 0 sudah tercakup dalam bentuk standar linprog\n",
        "\n",
        "# Menyelesaikan masalah linear programming menggunakan metode Simplex\n",
        "res = linprog(c, A_ub=A, b_ub=b, method='simplex')\n",
        "\n",
        "# Menampilkan hasil\n",
        "print('Status:', res.message)\n",
        "print('Nilai optimal dari fungsi objektif:', res.fun)\n",
        "print('Nilai variabel keputusan:')\n",
        "print('x1 (Kapur):', res.x[0], 'kg')\n",
        "print('x2 (Soda Kaustik):', res.x[1], 'kg')\n"
      ],
      "metadata": {
        "colab": {
          "base_uri": "https://localhost:8080/"
        },
        "id": "Nl6SRGReFskB",
        "outputId": "00acd58a-1072-4b40-90b3-c96474f6f570"
      },
      "execution_count": null,
      "outputs": [
        {
          "output_type": "stream",
          "name": "stdout",
          "text": [
            "Status: The solution was determined in presolve as there are no non-trivial constraints.\n",
            "Nilai optimal dari fungsi objektif: 32000000.0\n",
            "Nilai variabel keputusan:\n",
            "x1 (Kapur): 10000.0 kg\n",
            "x2 (Soda Kaustik): 0.0 kg\n"
          ]
        },
        {
          "output_type": "stream",
          "name": "stderr",
          "text": [
            "<ipython-input-1-6d46c6a9aac9>:29: DeprecationWarning: `method='simplex'` is deprecated and will be removed in SciPy 1.11.0. Please use one of the HiGHS solvers (e.g. `method='highs'`) in new code.\n",
            "  res = linprog(c, A_ub=A, b_ub=b, method='simplex')\n"
          ]
        }
      ]
    },
    {
      "cell_type": "code",
      "source": [
        "import numpy as np\n",
        "from scipy.optimize import linprog\n",
        "\n",
        "# Definisi koefisien fungsi objektif (minimasi biaya)\n",
        "c = [3200, 15000]\n",
        "\n",
        "# Definisi koefisien batasan (Ax <= b)\n",
        "# Menambahkan variabel slack untuk mengubah ketidaksetaraan menjadi kesetaraan\n",
        "A = [\n",
        "    [1, 0],  # x1 >= 10.000\n",
        "    [-1, 0],  # x1 <= 540.000\n",
        "    [0, 1],  # x2 <= 100.000\n",
        "    [0, -1]  # x2 >= 0\n",
        "]\n",
        "\n",
        "b = [\n",
        "    10000,   # x1 >= 10.000\n",
        "    -540000,  # x1 <= 540.000\n",
        "    100000,  # x2 <= 100.000\n",
        "    0        # x2 >= 0\n",
        "]\n",
        "\n",
        "# Menyelesaikan masalah linear programming menggunakan metode Simplex\n",
        "res = linprog(c, A_ub=A, b_ub=b, method='simplex')\n",
        "\n",
        "# Menampilkan hasil\n",
        "print('Status:', res.message)\n",
        "print('Nilai optimal dari fungsi objektif:', res.fun)\n",
        "print('Nilai variabel keputusan:')\n",
        "print('x1 (Kapur):', res.x[0], 'kg')\n",
        "print('x2 (Soda Kaustik):', res.x[1], 'kg')\n"
      ],
      "metadata": {
        "id": "34yaIZrLQoXO",
        "outputId": "2da22b2f-e0db-48f5-df8b-fd6f8bc913a3",
        "colab": {
          "base_uri": "https://localhost:8080/"
        }
      },
      "execution_count": null,
      "outputs": [
        {
          "output_type": "stream",
          "name": "stdout",
          "text": [
            "Status: The problem is (trivially) infeasible because a singleton row in the upper bound constraints is inconsistent with the bounds.\n",
            "Nilai optimal dari fungsi objektif: 0.0\n",
            "Nilai variabel keputusan:\n",
            "x1 (Kapur): 0.0 kg\n",
            "x2 (Soda Kaustik): 0.0 kg\n"
          ]
        },
        {
          "output_type": "stream",
          "name": "stderr",
          "text": [
            "<ipython-input-2-4ce108dcfc80>:24: DeprecationWarning: `method='simplex'` is deprecated and will be removed in SciPy 1.11.0. Please use one of the HiGHS solvers (e.g. `method='highs'`) in new code.\n",
            "  res = linprog(c, A_ub=A, b_ub=b, method='simplex')\n"
          ]
        }
      ]
    },
    {
      "cell_type": "code",
      "source": [
        "import numpy as np\n",
        "from scipy.optimize import linprog\n",
        "\n",
        "# Coefficients of the objective function\n",
        "c = [3200, 15000]  # Cost coefficients for Kapur (C1) and Soda Kaustik (C2)\n",
        "\n",
        "# Coefficients of the inequality constraints\n",
        "# A * x <= b\n",
        "A = [\n",
        "    [-1, 0],  # -x1 <= -10000 (x1 >= 10000)\n",
        "    [1, 0],   # x1 <= 540000\n",
        "    [0, -1],  # -x2 <= 0 (x2 >= 0)\n",
        "    [0, 1]    # x2 <= 100000\n",
        "]\n",
        "\n",
        "b = [\n",
        "    -10000,  # x1 >= 10000\n",
        "    540000,  # x1 <= 540000\n",
        "    0,       # x2 >= 0\n",
        "    100000   # x2 <= 100000\n",
        "]\n",
        "\n",
        "# Solve the linear programming problem using the simplex method\n",
        "result = linprog(c, A_ub=A, b_ub=b, method='simplex')\n",
        "\n",
        "# Output the results\n",
        "print('Status:', result.message)\n",
        "print('Optimal value (minimum cost):', result.fun)\n",
        "print('Optimal values of the variables:')\n",
        "print('x1 (Kapur):', result.x[0], 'kg')\n",
        "print('x2 (Soda Kaustik):', result.x[1], 'kg')\n"
      ],
      "metadata": {
        "colab": {
          "base_uri": "https://localhost:8080/"
        },
        "id": "DLM77PbVld9C",
        "outputId": "fa799d86-a003-4967-c03d-8b9cc06cf73d"
      },
      "execution_count": null,
      "outputs": [
        {
          "output_type": "stream",
          "name": "stdout",
          "text": [
            "Status: The solution was determined in presolve as there are no non-trivial constraints.\n",
            "Optimal value (minimum cost): 32000000.0\n",
            "Optimal values of the variables:\n",
            "x1 (Kapur): 10000.0 kg\n",
            "x2 (Soda Kaustik): 0.0 kg\n"
          ]
        },
        {
          "output_type": "stream",
          "name": "stderr",
          "text": [
            "<ipython-input-1-3bd2f1825ec8>:24: DeprecationWarning: `method='simplex'` is deprecated and will be removed in SciPy 1.11.0. Please use one of the HiGHS solvers (e.g. `method='highs'`) in new code.\n",
            "  result = linprog(c, A_ub=A, b_ub=b, method='simplex')\n"
          ]
        }
      ]
    },
    {
      "cell_type": "code",
      "source": [
        "pip install matplotlib"
      ],
      "metadata": {
        "colab": {
          "base_uri": "https://localhost:8080/"
        },
        "id": "CMnp3SKAqJQy",
        "outputId": "0ceb5284-da5c-4016-dbdf-f1a4c8f3941f"
      },
      "execution_count": null,
      "outputs": [
        {
          "output_type": "stream",
          "name": "stdout",
          "text": [
            "Requirement already satisfied: matplotlib in /usr/local/lib/python3.10/dist-packages (3.7.1)\n",
            "Requirement already satisfied: contourpy>=1.0.1 in /usr/local/lib/python3.10/dist-packages (from matplotlib) (1.2.1)\n",
            "Requirement already satisfied: cycler>=0.10 in /usr/local/lib/python3.10/dist-packages (from matplotlib) (0.12.1)\n",
            "Requirement already satisfied: fonttools>=4.22.0 in /usr/local/lib/python3.10/dist-packages (from matplotlib) (4.51.0)\n",
            "Requirement already satisfied: kiwisolver>=1.0.1 in /usr/local/lib/python3.10/dist-packages (from matplotlib) (1.4.5)\n",
            "Requirement already satisfied: numpy>=1.20 in /usr/local/lib/python3.10/dist-packages (from matplotlib) (1.25.2)\n",
            "Requirement already satisfied: packaging>=20.0 in /usr/local/lib/python3.10/dist-packages (from matplotlib) (24.0)\n",
            "Requirement already satisfied: pillow>=6.2.0 in /usr/local/lib/python3.10/dist-packages (from matplotlib) (9.4.0)\n",
            "Requirement already satisfied: pyparsing>=2.3.1 in /usr/local/lib/python3.10/dist-packages (from matplotlib) (3.1.2)\n",
            "Requirement already satisfied: python-dateutil>=2.7 in /usr/local/lib/python3.10/dist-packages (from matplotlib) (2.8.2)\n",
            "Requirement already satisfied: six>=1.5 in /usr/local/lib/python3.10/dist-packages (from python-dateutil>=2.7->matplotlib) (1.16.0)\n"
          ]
        }
      ]
    },
    {
      "cell_type": "code",
      "source": [
        "import numpy as np\n",
        "import matplotlib.pyplot as plt\n",
        "from scipy.optimize import linprog\n",
        "\n",
        "# Definisikan koefisien dari fungsi objektif (minimasi biaya)\n",
        "c = [3200, 15000]  # Biaya per kg Kapur dan Soda Kaustik\n",
        "\n",
        "# Definisikan koefisien dari batasan (Ax <= b)\n",
        "# Dalam hal ini, kita akan mempertimbangkan batasan utama:\n",
        "# 1. Kapur: 10.000 <= x1 <= 540.000\n",
        "# 2. Soda Kaustik: 0 <= x2 <= 100.000\n",
        "A = [\n",
        "    [-1, 0],  # -x1 <= -10.000 (x1 >= 10.000)\n",
        "    [1, 0],   # x1 <= 540.000\n",
        "    [0, 1],   # x2 <= 100.000\n",
        "    [0, -1]   # -x2 <= 0 (x2 >= 0)\n",
        "]\n",
        "\n",
        "b = [\n",
        "    -10000,  # x1 >= 10.000\n",
        "    540000,  # x1 <= 540.000\n",
        "    100000,  # x2 <= 100.000\n",
        "    0        # x2 >= 0\n",
        "]\n",
        "\n",
        "# Selesaikan masalah linear programming menggunakan metode Simplex\n",
        "result = linprog(c, A_ub=A, b_ub=b, method='simplex')\n",
        "\n",
        "# Ekstrak solusi optimal\n",
        "x1_opt, x2_opt = result.x\n",
        "\n",
        "# Plotting\n",
        "x = np.linspace(0, 600000, 400)\n",
        "\n",
        "# Plotkan batasan\n",
        "plt.plot(x, np.full_like(x, 100000), label='x2 <= 100000')\n",
        "plt.plot(x, np.full_like(x, 0), label='x2 >= 0')\n",
        "plt.plot(np.full_like(x, 10000), x, label='x1 >= 10000')\n",
        "plt.plot(np.full_like(x, 540000), x, label='x1 <= 540000')\n",
        "\n",
        "# Isi daerah layak\n",
        "plt.fill_betweenx(x, 10000, 540000, alpha=0.2, where=(x <= 100000))\n",
        "\n",
        "# Garis fungsi objektif (untuk ilustrasi, menunjukkan beberapa garis untuk memvisualisasikan arah)\n",
        "for Z in [1e7, 2e7, 3e7, 4e7, 5e7]:\n",
        "    plt.plot(x, (Z - 3200 * x) / 15000, 'k--', alpha=0.4)\n",
        "\n",
        "# Plotkan solusi optimal\n",
        "plt.plot(x1_opt, x2_opt, 'ro', label='Optimal Solution')\n",
        "\n",
        "# Anotasi\n",
        "plt.xlabel('Kapur (x1)')\n",
        "plt.ylabel('Soda Kaustik (x2)')\n",
        "plt.title('Linear Programming Feasible Region and Optimal Solution')\n",
        "plt.legend()\n",
        "plt.grid(True)\n",
        "plt.xlim(0, 600000)\n",
        "plt.ylim(0, 150000)\n",
        "\n",
        "# Tampilkan plot\n",
        "plt.show()\n",
        "\n",
        "print(f'Optimal value (minimum cost): {result.fun}')\n",
        "print(f'Optimal values of the variables: x1 (Kapur) = {x1_opt} kg, x2 (Soda Kaustik) = {x2_opt} kg')\n"
      ],
      "metadata": {
        "colab": {
          "base_uri": "https://localhost:8080/",
          "height": 541
        },
        "id": "2it8pUBuqw1X",
        "outputId": "554fa97c-bcb7-42e7-ab23-180eaefdc99d"
      },
      "execution_count": null,
      "outputs": [
        {
          "output_type": "stream",
          "name": "stderr",
          "text": [
            "<ipython-input-5-cc1b0cb5b4d1>:27: DeprecationWarning: `method='simplex'` is deprecated and will be removed in SciPy 1.11.0. Please use one of the HiGHS solvers (e.g. `method='highs'`) in new code.\n",
            "  result = linprog(c, A_ub=A, b_ub=b, method='simplex')\n"
          ]
        },
        {
          "output_type": "display_data",
          "data": {
            "text/plain": [
              "<Figure size 640x480 with 1 Axes>"
            ],
            "image/png": "[encoded data removed]"
          },
          "metadata": {}
        },
        {
          "output_type": "stream",
          "name": "stdout",
          "text": [
            "Optimal value (minimum cost): 32000000.0\n",
            "Optimal values of the variables: x1 (Kapur) = 10000.0 kg, x2 (Soda Kaustik) = 0.0 kg\n"
          ]
        }
      ]
    },
    {
      "cell_type": "code",
      "source": [
        "kesimpulan kurva daitas"
      ],
      "metadata": {
        "id": "E0fuiAP9rLLQ"
      },
      "execution_count": null,
      "outputs": []
    }
  ]
}